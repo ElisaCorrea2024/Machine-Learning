{
 "cells": [
  {
   "cell_type": "markdown",
   "id": "a1ffe99a-31a0-41e6-b72c-7667cf4c7359",
   "metadata": {},
   "source": [
    "## Continuemos con las mejoras del entrenamiento del modelo\n",
    "- Agrupación de Carreras en Categorías Más Generales\n",
    "- Aumentar el Conjunto de Datos\n",
    "- Explorar Otros Modelos: Modelos de Ensemblado como Gradient Boosting o XGBoost pueden ofrecer mejoras o Modelos más complejos como Redes Neuronales podrían ser útiles con suficientes datos.\n",
    "- Validación y Cross-Validation"
   ]
  },
  {
   "cell_type": "markdown",
   "id": "34b199dd-b805-41c0-b3f0-91a532de23b3",
   "metadata": {},
   "source": [
    "## Vamos a probar entrenando el modelo XGBoost con un Nuevo DF con las carreras agrupadas en 10 categorías  "
   ]
  },
  {
   "cell_type": "markdown",
   "id": "01245f3e-de54-49c8-9fa3-4345620a3647",
   "metadata": {},
   "source": [
    "## ¿cual es el mejor modelo? - Leazy Predictor"
   ]
  },
  {
   "cell_type": "code",
   "execution_count": 111,
   "id": "318cf533-8482-4be7-bc99-9fae58f8482c",
   "metadata": {},
   "outputs": [
    {
     "name": "stderr",
     "output_type": "stream",
     "text": [
      "100%|███████████████████████████████████████████| 42/42 [00:05<00:00,  8.28it/s]"
     ]
    },
    {
     "name": "stdout",
     "output_type": "stream",
     "text": [
      "[LightGBM] [Info] Auto-choosing col-wise multi-threading, the overhead of testing was 0.001100 seconds.\n",
      "You can set `force_col_wise=true` to remove the overhead.\n",
      "[LightGBM] [Info] Total Bins 189\n",
      "[LightGBM] [Info] Number of data points in the train set: 703, number of used features: 46\n",
      "[LightGBM] [Info] Start training from score 4.657183\n",
      "[LightGBM] [Warning] No further splits with positive gain, best gain: -inf\n",
      "[LightGBM] [Warning] No further splits with positive gain, best gain: -inf\n",
      "[LightGBM] [Warning] No further splits with positive gain, best gain: -inf\n",
      "[LightGBM] [Warning] No further splits with positive gain, best gain: -inf\n",
      "[LightGBM] [Warning] No further splits with positive gain, best gain: -inf\n",
      "[LightGBM] [Warning] No further splits with positive gain, best gain: -inf\n",
      "[LightGBM] [Warning] No further splits with positive gain, best gain: -inf\n",
      "[LightGBM] [Warning] No further splits with positive gain, best gain: -inf\n",
      "[LightGBM] [Warning] No further splits with positive gain, best gain: -inf\n",
      "[LightGBM] [Warning] No further splits with positive gain, best gain: -inf\n",
      "[LightGBM] [Warning] No further splits with positive gain, best gain: -inf\n",
      "[LightGBM] [Warning] No further splits with positive gain, best gain: -inf\n",
      "[LightGBM] [Warning] No further splits with positive gain, best gain: -inf\n",
      "[LightGBM] [Warning] No further splits with positive gain, best gain: -inf\n",
      "[LightGBM] [Warning] No further splits with positive gain, best gain: -inf\n",
      "[LightGBM] [Warning] No further splits with positive gain, best gain: -inf\n",
      "[LightGBM] [Warning] No further splits with positive gain, best gain: -inf\n",
      "[LightGBM] [Warning] No further splits with positive gain, best gain: -inf\n",
      "[LightGBM] [Warning] No further splits with positive gain, best gain: -inf\n",
      "[LightGBM] [Warning] No further splits with positive gain, best gain: -inf\n",
      "[LightGBM] [Warning] No further splits with positive gain, best gain: -inf\n",
      "[LightGBM] [Warning] No further splits with positive gain, best gain: -inf\n",
      "[LightGBM] [Warning] No further splits with positive gain, best gain: -inf\n",
      "[LightGBM] [Warning] No further splits with positive gain, best gain: -inf\n",
      "[LightGBM] [Warning] No further splits with positive gain, best gain: -inf\n",
      "[LightGBM] [Warning] No further splits with positive gain, best gain: -inf\n",
      "[LightGBM] [Warning] No further splits with positive gain, best gain: -inf\n",
      "[LightGBM] [Warning] No further splits with positive gain, best gain: -inf\n",
      "[LightGBM] [Warning] No further splits with positive gain, best gain: -inf\n",
      "[LightGBM] [Warning] No further splits with positive gain, best gain: -inf\n",
      "[LightGBM] [Warning] No further splits with positive gain, best gain: -inf\n",
      "[LightGBM] [Warning] No further splits with positive gain, best gain: -inf\n",
      "[LightGBM] [Warning] No further splits with positive gain, best gain: -inf\n",
      "[LightGBM] [Warning] No further splits with positive gain, best gain: -inf\n",
      "[LightGBM] [Warning] No further splits with positive gain, best gain: -inf\n",
      "[LightGBM] [Warning] No further splits with positive gain, best gain: -inf\n",
      "[LightGBM] [Warning] No further splits with positive gain, best gain: -inf\n",
      "[LightGBM] [Warning] No further splits with positive gain, best gain: -inf\n",
      "[LightGBM] [Warning] No further splits with positive gain, best gain: -inf\n",
      "[LightGBM] [Warning] No further splits with positive gain, best gain: -inf\n",
      "[LightGBM] [Warning] No further splits with positive gain, best gain: -inf\n",
      "[LightGBM] [Warning] No further splits with positive gain, best gain: -inf\n",
      "[LightGBM] [Warning] No further splits with positive gain, best gain: -inf\n",
      "[LightGBM] [Warning] No further splits with positive gain, best gain: -inf\n",
      "[LightGBM] [Warning] No further splits with positive gain, best gain: -inf\n",
      "[LightGBM] [Warning] No further splits with positive gain, best gain: -inf\n",
      "[LightGBM] [Warning] No further splits with positive gain, best gain: -inf\n",
      "[LightGBM] [Warning] No further splits with positive gain, best gain: -inf\n",
      "[LightGBM] [Warning] No further splits with positive gain, best gain: -inf\n",
      "[LightGBM] [Warning] No further splits with positive gain, best gain: -inf\n",
      "[LightGBM] [Warning] No further splits with positive gain, best gain: -inf\n",
      "[LightGBM] [Warning] No further splits with positive gain, best gain: -inf\n",
      "[LightGBM] [Warning] No further splits with positive gain, best gain: -inf\n",
      "[LightGBM] [Warning] No further splits with positive gain, best gain: -inf\n",
      "[LightGBM] [Warning] No further splits with positive gain, best gain: -inf\n",
      "[LightGBM] [Warning] No further splits with positive gain, best gain: -inf\n",
      "[LightGBM] [Warning] No further splits with positive gain, best gain: -inf\n",
      "[LightGBM] [Warning] No further splits with positive gain, best gain: -inf\n",
      "[LightGBM] [Warning] No further splits with positive gain, best gain: -inf\n",
      "[LightGBM] [Warning] No further splits with positive gain, best gain: -inf\n",
      "[LightGBM] [Warning] No further splits with positive gain, best gain: -inf\n",
      "[LightGBM] [Warning] No further splits with positive gain, best gain: -inf\n",
      "[LightGBM] [Warning] No further splits with positive gain, best gain: -inf\n",
      "[LightGBM] [Warning] No further splits with positive gain, best gain: -inf\n",
      "[LightGBM] [Warning] No further splits with positive gain, best gain: -inf\n",
      "[LightGBM] [Warning] No further splits with positive gain, best gain: -inf\n",
      "[LightGBM] [Warning] No further splits with positive gain, best gain: -inf\n",
      "[LightGBM] [Warning] No further splits with positive gain, best gain: -inf\n",
      "[LightGBM] [Warning] No further splits with positive gain, best gain: -inf\n",
      "[LightGBM] [Warning] No further splits with positive gain, best gain: -inf\n",
      "[LightGBM] [Warning] No further splits with positive gain, best gain: -inf\n",
      "[LightGBM] [Warning] No further splits with positive gain, best gain: -inf\n",
      "[LightGBM] [Warning] No further splits with positive gain, best gain: -inf\n",
      "[LightGBM] [Warning] No further splits with positive gain, best gain: -inf\n",
      "[LightGBM] [Warning] No further splits with positive gain, best gain: -inf\n",
      "[LightGBM] [Warning] No further splits with positive gain, best gain: -inf\n",
      "[LightGBM] [Warning] No further splits with positive gain, best gain: -inf\n",
      "[LightGBM] [Warning] No further splits with positive gain, best gain: -inf\n",
      "[LightGBM] [Warning] No further splits with positive gain, best gain: -inf\n",
      "[LightGBM] [Warning] No further splits with positive gain, best gain: -inf\n",
      "[LightGBM] [Warning] No further splits with positive gain, best gain: -inf\n",
      "[LightGBM] [Warning] No further splits with positive gain, best gain: -inf\n",
      "[LightGBM] [Warning] No further splits with positive gain, best gain: -inf\n",
      "[LightGBM] [Warning] No further splits with positive gain, best gain: -inf\n",
      "[LightGBM] [Warning] No further splits with positive gain, best gain: -inf\n",
      "[LightGBM] [Warning] No further splits with positive gain, best gain: -inf\n",
      "[LightGBM] [Warning] No further splits with positive gain, best gain: -inf\n",
      "[LightGBM] [Warning] No further splits with positive gain, best gain: -inf\n",
      "[LightGBM] [Warning] No further splits with positive gain, best gain: -inf\n",
      "[LightGBM] [Warning] No further splits with positive gain, best gain: -inf\n",
      "[LightGBM] [Warning] No further splits with positive gain, best gain: -inf\n",
      "[LightGBM] [Warning] No further splits with positive gain, best gain: -inf\n",
      "[LightGBM] [Warning] No further splits with positive gain, best gain: -inf\n",
      "[LightGBM] [Warning] No further splits with positive gain, best gain: -inf\n",
      "[LightGBM] [Warning] No further splits with positive gain, best gain: -inf\n",
      "[LightGBM] [Warning] No further splits with positive gain, best gain: -inf\n",
      "[LightGBM] [Warning] No further splits with positive gain, best gain: -inf\n",
      "[LightGBM] [Warning] No further splits with positive gain, best gain: -inf\n",
      "[LightGBM] [Warning] No further splits with positive gain, best gain: -inf\n",
      "[LightGBM] [Warning] No further splits with positive gain, best gain: -inf\n",
      "                   Adjusted R-Squared  R-Squared  RMSE  Time Taken\n",
      "Model                                                             \n",
      "AdaBoostRegressor               -0.10       0.00  2.82        0.50\n",
      "BayesianRidge                   -0.10       0.00  2.82        0.07\n",
      "LassoLars                       -0.10      -0.00  2.82        0.03\n",
      "DummyRegressor                  -0.10      -0.00  2.82        0.03\n",
      "ElasticNet                      -0.10      -0.00  2.82        0.05\n",
      "Lasso                           -0.10      -0.00  2.82        0.03\n",
      "ElasticNetCV                    -0.11      -0.00  2.82        0.11\n",
      "LarsCV                          -0.11      -0.00  2.83        0.09\n",
      "LassoLarsCV                     -0.11      -0.00  2.83        0.07\n",
      "LassoCV                         -0.11      -0.00  2.83        0.10\n"
     ]
    },
    {
     "name": "stderr",
     "output_type": "stream",
     "text": [
      "\n"
     ]
    }
   ],
   "source": [
    "import pandas as pd\n",
    "from sklearn.model_selection import train_test_split\n",
    "from lazypredict.Supervised import LazyRegressor\n",
    "\n",
    "# Cargar el dataset\n",
    "data = pd.read_csv(\"DataSet_1000_Target.csv\")\n",
    "\n",
    "# Asegurarse de que la columna objetivo sea numérica\n",
    "data['Categoria Profesional Sugerida'] = data['Categoria Profesional Sugerida'].astype('category').cat.codes\n",
    "\n",
    "# Dividir en características y objetivo\n",
    "X = data.drop(columns=['Categoria Profesional Sugerida'])\n",
    "y = data['Categoria Profesional Sugerida']\n",
    "\n",
    "# Dividir en conjuntos de entrenamiento y prueba\n",
    "X_train, X_test, y_train, y_test = train_test_split(X, y, test_size=0.3, random_state=42)\n",
    "\n",
    "# Crear el objeto LazyRegressor\n",
    "regressor = LazyRegressor(verbose=0, ignore_warnings=True, custom_metric=None)\n",
    "\n",
    "# Entrenar y evaluar los modelos\n",
    "models, predictions = regressor.fit(X_train, X_test, y_train, y_test)\n",
    "\n",
    "# Mostrar los 10 mejores modelos\n",
    "print(models.head(10))\n"
   ]
  },
  {
   "cell_type": "markdown",
   "id": "b86b0f03-9b79-45b1-9f72-1d43a408a68f",
   "metadata": {},
   "source": [
    "## Paso 2: Preprocesar los datos"
   ]
  },
  {
   "cell_type": "code",
   "execution_count": 17,
   "id": "efb3332e-468a-47b2-8939-f1fac9c061c5",
   "metadata": {},
   "outputs": [
    {
     "name": "stdout",
     "output_type": "stream",
     "text": [
      "Tamaño de X_train: (804, 78)\n",
      "Tamaño de X_test: (201, 78)\n",
      "Tamaño de y_train: (804,)\n",
      "Tamaño de y_test: (201,)\n"
     ]
    }
   ],
   "source": [
    "# Mantén \"Categoria Profesional Sugerida\" fuera del proceso de One-Hot Encoding\n",
    "target_column = \"Categoria Profesional Sugerida\"\n",
    "df_encoded = pd.get_dummies(df.drop(columns=[target_column]), drop_first=True)\n",
    "\n",
    "# Define las características (X) y la columna objetivo (y)\n",
    "X = df_encoded\n",
    "y = df[target_column].astype(\"category\").cat.codes\n",
    "\n",
    "# Dividir los datos en entrenamiento (80%) y prueba (20%)\n",
    "X_train, X_test, y_train, y_test = train_test_split(X, y, test_size=0.2, random_state=42)\n",
    "\n",
    "# Confirmar las dimensiones de los datos\n",
    "print(\"Tamaño de X_train:\", X_train.shape)\n",
    "print(\"Tamaño de X_test:\", X_test.shape)\n",
    "print(\"Tamaño de y_train:\", y_train.shape)\n",
    "print(\"Tamaño de y_test:\", y_test.shape)"
   ]
  },
  {
   "cell_type": "code",
   "execution_count": 18,
   "id": "285485f0-8a11-4a0d-960f-a9f13938e316",
   "metadata": {},
   "outputs": [
    {
     "name": "stderr",
     "output_type": "stream",
     "text": [
      "/opt/anaconda3/lib/python3.12/site-packages/xgboost/core.py:158: UserWarning: [10:10:50] WARNING: /var/folders/c_/qfmhj66j0tn016nkx_th4hxm0000gp/T/abs_b6qk1lz_ug/croot/xgboost-split_1724073748391/work/src/learner.cc:740: \n",
      "Parameters: { \"use_label_encoder\" } are not used.\n",
      "\n",
      "  warnings.warn(smsg, UserWarning)\n"
     ]
    },
    {
     "name": "stdout",
     "output_type": "stream",
     "text": [
      "Accuracy del modelo XGBoost: 0.06467661691542288\n",
      "\n",
      "Reporte de clasificación del modelo XGBoost:\n",
      "               precision    recall  f1-score   support\n",
      "\n",
      "           0       0.00      0.00      0.00        25\n",
      "           1       0.06      0.07      0.06        14\n",
      "           2       0.08      0.06      0.07        16\n",
      "           3       0.00      0.00      0.00        19\n",
      "           4       0.00      0.00      0.00        21\n",
      "           5       0.06      0.08      0.07        24\n",
      "           6       0.07      0.11      0.09        19\n",
      "           7       0.16      0.21      0.18        19\n",
      "           8       0.07      0.04      0.05        25\n",
      "           9       0.09      0.11      0.10        19\n",
      "\n",
      "    accuracy                           0.06       201\n",
      "   macro avg       0.06      0.07      0.06       201\n",
      "weighted avg       0.06      0.06      0.06       201\n",
      "\n"
     ]
    }
   ],
   "source": [
    "# Crear el modelo XGBoost\n",
    "xgb_model = xgb.XGBClassifier(use_label_encoder=False, eval_metric='mlogloss', random_state=42)\n",
    "\n",
    "# Entrenar el modelo\n",
    "xgb_model.fit(X_train, y_train)\n",
    "\n",
    "# Realizar predicciones sobre el conjunto de prueba\n",
    "y_pred_xgb = xgb_model.predict(X_test)\n",
    "\n",
    "# Evaluar el modelo\n",
    "from sklearn.metrics import accuracy_score, classification_report\n",
    "\n",
    "print(\"Accuracy del modelo XGBoost:\", accuracy_score(y_test, y_pred_xgb))\n",
    "print(\"\\nReporte de clasificación del modelo XGBoost:\\n\", classification_report(y_test, y_pred_xgb))\n"
   ]
  },
  {
   "cell_type": "markdown",
   "id": "6e496a75-212a-41a8-ae5d-1983db19b4ba",
   "metadata": {},
   "source": [
    "## Resultado: Bajo rendimiento del modelo XGBoost = 0.06"
   ]
  },
  {
   "cell_type": "markdown",
   "id": "b101c03c-e8fb-4eb3-a2c2-746efa4a1e45",
   "metadata": {},
   "source": [
    "## Revisar si los datos de la Target están desbalanceados"
   ]
  },
  {
   "cell_type": "code",
   "execution_count": null,
   "id": "1b0522c8-6cc2-4d92-8df1-39fe95889841",
   "metadata": {},
   "outputs": [],
   "source": [
    "print(y.value_counts())\n"
   ]
  },
  {
   "cell_type": "markdown",
   "id": "d8c94e19-f0e4-4c0a-a101-a79bdb9949e7",
   "metadata": {},
   "source": [
    "## Intentar con el modelo de Redes neuronales que es más robusto y podría asumir la complejidad de las variables"
   ]
  },
  {
   "cell_type": "code",
   "execution_count": null,
   "id": "a05259e9-6635-4a03-a01d-28d12e2c4ecd",
   "metadata": {},
   "outputs": [],
   "source": [
    "# Importar librerías necesarias\n",
    "from tensorflow.keras.models import Sequential\n",
    "from tensorflow.keras.layers import Dense\n",
    "from tensorflow.keras.utils import to_categorical\n",
    "\n",
    "# Convertir la variable objetivo (y) a formato categórico\n",
    "y_train_cat = to_categorical(y_train)\n",
    "y_test_cat = to_categorical(y_test)\n",
    "\n",
    "# Crear el modelo de redes neuronales\n",
    "nn_model = Sequential()\n",
    "nn_model.add(Dense(128, activation='relu', input_dim=X_train.shape[1]))  # Capa de entrada\n",
    "nn_model.add(Dense(64, activation='relu'))                              # Capa oculta\n",
    "nn_model.add(Dense(y_train_cat.shape[1], activation='softmax'))         # Capa de salida\n",
    "\n",
    "# Compilar el modelo\n",
    "nn_model.compile(optimizer='adam', loss='categorical_crossentropy', metrics=['accuracy'])\n",
    "\n",
    "# Entrenar el modelo\n",
    "history = nn_model.fit(X_train, y_train_cat, epochs=50, batch_size=32, validation_split=0.2, verbose=1)\n",
    "\n",
    "# Evaluar el modelo en el conjunto de prueba\n",
    "loss, accuracy = nn_model.evaluate(X_test, y_test_cat)\n",
    "print(\"Pérdida (Loss) en el conjunto de prueba:\", loss)\n",
    "print(\"Precisión (Accuracy) en el conjunto de prueba:\", accuracy)\n"
   ]
  },
  {
   "cell_type": "code",
   "execution_count": null,
   "id": "6d68aa03-7f34-4e64-b4f2-9dab4dc3a462",
   "metadata": {},
   "outputs": [],
   "source": [
    "# Asegurarse de que los datos sean del tipo correcto\n",
    "X_train = X_train.astype('float32')\n",
    "X_test = X_test.astype('float32')\n",
    "\n",
    "y_train = y_train.astype('int')\n",
    "y_test = y_test.astype('int')\n",
    "\n",
    "# Convertir la variable objetivo (y) a formato categórico\n",
    "y_train_cat = to_categorical(y_train)\n",
    "y_test_cat = to_categorical(y_test)\n",
    "\n",
    "# Crear el modelo de redes neuronales\n",
    "nn_model = Sequential()\n",
    "nn_model.add(Dense(128, activation='relu', input_dim=X_train.shape[1]))  # Capa de entrada\n",
    "nn_model.add(Dense(64, activation='relu'))                              # Capa oculta\n",
    "nn_model.add(Dense(y_train_cat.shape[1], activation='softmax'))         # Capa de salida\n",
    "\n",
    "# Compilar el modelo\n",
    "nn_model.compile(optimizer='adam', loss='categorical_crossentropy', metrics=['accuracy'])\n",
    "\n",
    "# Entrenar el modelo\n",
    "history = nn_model.fit(X_train, y_train_cat, epochs=50, batch_size=32, validation_split=0.2, verbose=1)\n",
    "\n",
    "# Evaluar el modelo en el conjunto de prueba\n",
    "loss, accuracy = nn_model.evaluate(X_test, y_test_cat)\n",
    "print(\"Pérdida (Loss) en el conjunto de prueba:\", loss)\n",
    "print(\"Precisión (Accuracy) en el conjunto de prueba:\", accuracy)\n"
   ]
  },
  {
   "cell_type": "markdown",
   "id": "48ea3384-3ee6-4c97-ab48-d71529aec606",
   "metadata": {},
   "source": [
    "## Resultados: \n",
    "Los resultados muestran que la precisión del modelo de redes neuronales en el conjunto de prueba es muy baja (7.46%), y la pérdida también es alta (3.73). Esto indica que el modelo no está aprendiendo patrones significativos.\n",
    "\n",
    "Posibles Razones:\n",
    "- Cantidad limitada de datos: Aunque tenemos 1,000 muestras, para un problema multiclase con muchas categorías, puede no ser suficiente para que una red neuronal generalice bien.\n",
    "- Variables predictoras no informativas: Es posible que algunas características no estén contribuyendo significativamente a la clasificación.\n",
    "Tamaño de la red: Aunque la arquitectura utilizada es básica, puede ser demasiado compleja para el tamaño y la calidad de los datos.\n"
   ]
  },
  {
   "cell_type": "markdown",
   "id": "d1d57ebd-0b91-483e-a65e-e4e0ed37075e",
   "metadata": {},
   "source": [
    "## Soluciones:"
   ]
  },
  {
   "cell_type": "markdown",
   "id": "876fdd00-f05a-4047-85fa-7db3d8992b9c",
   "metadata": {},
   "source": [
    "1. Normalizar las características\n",
    "2. Reducir la complejidad del modelo\n",
    "3. Aumentar los datos con técnicas de aumento\n",
    "4. Entrenar más épocas o ajustar el batch size"
   ]
  },
  {
   "cell_type": "markdown",
   "id": "6e203b18-0833-475f-b925-743cbee6e521",
   "metadata": {},
   "source": [
    "## Implementemos: normalización de los datos y ajustar la arquitectura de la red neuronal para mejorar el rendimiento"
   ]
  },
  {
   "cell_type": "code",
   "execution_count": null,
   "id": "9a43a79d-1ff6-42ed-9f3f-56b56e646e93",
   "metadata": {},
   "outputs": [],
   "source": [
    "from sklearn.preprocessing import MinMaxScaler\n",
    "from tensorflow.keras.models import Sequential\n",
    "from tensorflow.keras.layers import Dense\n",
    "from tensorflow.keras.utils import to_categorical\n",
    "\n",
    "# Normalizar las características (X) entre 0 y 1\n",
    "scaler = MinMaxScaler()\n",
    "X_train = scaler.fit_transform(X_train)\n",
    "X_test = scaler.transform(X_test)\n",
    "\n",
    "# Convertir la variable objetivo (y) a formato categórico\n",
    "y_train_cat = to_categorical(y_train)\n",
    "y_test_cat = to_categorical(y_test)\n",
    "\n",
    "# Crear un modelo de redes neuronales simplificado\n",
    "nn_model = Sequential()\n",
    "nn_model.add(Dense(64, activation='relu', input_dim=X_train.shape[1]))  # Capa de entrada y oculta\n",
    "nn_model.add(Dense(32, activation='relu'))                              # Segunda capa oculta\n",
    "nn_model.add(Dense(y_train_cat.shape[1], activation='softmax'))         # Capa de salida\n",
    "\n",
    "# Compilar el modelo\n",
    "nn_model.compile(optimizer='adam', loss='categorical_crossentropy', metrics=['accuracy'])\n",
    "\n",
    "# Entrenar el modelo con la nueva arquitectura\n",
    "history = nn_model.fit(X_train, y_train_cat, epochs=50, batch_size=16, validation_split=0.2, verbose=1)\n",
    "\n",
    "# Evaluar el modelo en el conjunto de prueba\n",
    "loss, accuracy = nn_model.evaluate(X_test, y_test_cat)\n",
    "print(\"Pérdida (Loss) en el conjunto de prueba:\", loss)\n",
    "print(\"Precisión (Accuracy) en el conjunto de prueba:\", accuracy)\n"
   ]
  },
  {
   "cell_type": "markdown",
   "id": "ba131494-0a1b-4144-96dc-582a4afe8dfb",
   "metadata": {},
   "source": [
    "## Resultados: Los resultados siguen mostrando que el modelo tiene una precisión baja (8.46%) y una pérdida alta (4.86). Esto indica que, a pesar de los ajustes, el modelo aún no está logrando capturar patrones útiles en los datos."
   ]
  },
  {
   "cell_type": "markdown",
   "id": "a47e2005-14f8-4cf0-be3f-cf0d575e9e06",
   "metadata": {},
   "source": [
    "## Análisis de la Situación:\n",
    "Cantidad de Datos: 1,000 filas pueden no ser suficientes para un problema multiclase con 10 categorías.\n",
    "Datos No Informativos: Es posible que las características no sean suficientemente discriminativas para predecir la clase objetivo.\n",
    "Complejidad del Problema: La predicción de categorías profesionales puede requerir más contexto, como relaciones entre múltiples variables que no están claramente representadas en los datos actuales.\n"
   ]
  },
  {
   "cell_type": "markdown",
   "id": "d0d3dc97-009c-47f6-a4a6-7c5c3c397763",
   "metadata": {},
   "source": [
    "## Solución: Agrupar las categorías en solo 5 clústeres para simplificar el problema"
   ]
  },
  {
   "cell_type": "code",
   "execution_count": null,
   "id": "6e0db6c3-fedf-4a25-b107-3d342b28bba7",
   "metadata": {},
   "outputs": [],
   "source": [
    "# Diccionario de mapeo para agrupar categorías\n",
    "cluster_mapping = {\n",
    "    \"Tecnología y Desarrollo de Software\": \"Tecnología\",\n",
    "    \"Diseño / Arte / Multimedia\": \"Arte y Diseño\",\n",
    "    \"Ciencias Sociales y Humanidades\": \"Ciencias Sociales\",\n",
    "    \"Salud y Bienestar\": \"Salud\",\n",
    "    \"Legal y Derecho\": \"Derecho\",\n",
    "    # Mapea otras categorías similares...\n",
    "}\n",
    "\n",
    "# Aplicar el mapeo\n",
    "df[\"Cluster\"] = df[\"Categoria Profesional Sugerida\"].map(cluster_mapping)\n",
    "\n",
    "# Convertir la nueva columna de clúster a numérica\n",
    "y = df[\"Cluster\"].astype(\"category\").cat.codes\n"
   ]
  },
  {
   "cell_type": "code",
   "execution_count": null,
   "id": "dcc31bee-75af-4705-8bf3-0e3b5596e743",
   "metadata": {},
   "outputs": [],
   "source": [
    "from sklearn.preprocessing import MinMaxScaler\n",
    "from tensorflow.keras.models import Sequential\n",
    "from tensorflow.keras.layers import Dense\n",
    "from tensorflow.keras.utils import to_categorical\n",
    "from sklearn.model_selection import train_test_split\n",
    "\n",
    "# Definir el mapeo de categorías a clústeres\n",
    "cluster_mapping = {\n",
    "    \"Tecnología y Desarrollo de Software\": \"Tecnología\",\n",
    "    \"Diseño / Arte / Multimedia\": \"Arte y Diseño\",\n",
    "    \"Ciencias Sociales y Humanidades\": \"Ciencias Sociales\",\n",
    "    \"Salud y Bienestar\": \"Salud\",\n",
    "    \"Legal y Derecho\": \"Derecho\",\n",
    "    # Agrega otras categorías si es necesario...\n",
    "}\n",
    "\n",
    "# Crear la columna de clústeres\n",
    "df[\"Cluster\"] = df[\"Categoria Profesional Sugerida\"].map(cluster_mapping)\n",
    "\n",
    "# Convertir los clústeres a códigos numéricos\n",
    "y = df[\"Cluster\"].astype(\"category\").cat.codes\n",
    "\n",
    "# Convertir las características categóricas a variables dummies\n",
    "X = pd.get_dummies(df.drop(columns=[\"Categoria Profesional Sugerida\", \"Cluster\"]), drop_first=True)\n",
    "\n",
    "# Dividir los datos en entrenamiento (80%) y prueba (20%)\n",
    "X_train, X_test, y_train, y_test = train_test_split(X, y, test_size=0.2, random_state=42)\n",
    "\n",
    "# Normalizar las características\n",
    "scaler = MinMaxScaler()\n",
    "X_train = scaler.fit_transform(X_train)\n",
    "X_test = scaler.transform(X_test)\n",
    "\n",
    "# Convertir la variable objetivo (y) a formato categórico\n",
    "y_train_cat = to_categorical(y_train)\n",
    "y_test_cat = to_categorical(y_test)\n",
    "\n",
    "# Crear el modelo de redes neuronales\n",
    "nn_model = Sequential()\n",
    "nn_model.add(Dense(64, activation='relu', input_dim=X_train.shape[1]))\n",
    "nn_model.add(Dense(32, activation='relu'))\n",
    "nn_model.add(Dense(y_train_cat.shape[1], activation='softmax'))\n",
    "\n",
    "# Compilar el modelo\n",
    "nn_model.compile(optimizer='adam', loss='categorical_crossentropy', metrics=['accuracy'])\n",
    "\n",
    "# Entrenar el modelo\n",
    "history = nn_model.fit(X_train, y_train_cat, epochs=50, batch_size=16, validation_split=0.2, verbose=1)\n",
    "\n",
    "# Evaluar el modelo en el conjunto de prueba\n",
    "loss, accuracy = nn_model.evaluate(X_test, y_test_cat)\n",
    "print(\"Pérdida (Loss) en el conjunto de prueba:\", loss)\n",
    "print(\"Precisión (Accuracy) en el conjunto de prueba:\", accuracy)\n"
   ]
  },
  {
   "cell_type": "markdown",
   "id": "975407c0-e860-4b63-9c74-2b17a509841d",
   "metadata": {},
   "source": [
    "## Con los clústeres simplificados, el modelo logró una precisión de 37.81%, un aumento significativo en comparación con las versiones anteriores. Sin embargo, la pérdida (3.73) sigue siendo alta, lo que indica que aún hay margen para mejorar."
   ]
  },
  {
   "cell_type": "markdown",
   "id": "9189cca7-ed9b-4490-b36a-b9ad22b9303a",
   "metadata": {},
   "source": [
    "## Próximos Pasos para Mejorar:"
   ]
  },
  {
   "cell_type": "markdown",
   "id": "b8babbf1-7338-442d-a009-5cbd04422939",
   "metadata": {},
   "source": [
    "Ajustar Hiperparámetros del Modelo: Podríamos ajustar el optimizador, la tasa de aprendizaje o el número de neuronas."
   ]
  },
  {
   "cell_type": "code",
   "execution_count": null,
   "id": "61381208-f657-4a0d-982e-c17c3a649262",
   "metadata": {},
   "outputs": [],
   "source": [
    "from tensorflow.keras.optimizers import Adam\n",
    "\n",
    "# Crear el modelo con un optimizador personalizado\n",
    "nn_model = Sequential()\n",
    "nn_model.add(Dense(64, activation='relu', input_dim=X_train.shape[1]))\n",
    "nn_model.add(Dense(32, activation='relu'))\n",
    "nn_model.add(Dense(y_train_cat.shape[1], activation='softmax'))\n",
    "\n",
    "# Compilar el modelo con una tasa de aprendizaje más baja\n",
    "optimizer = Adam(learning_rate=0.001)\n",
    "nn_model.compile(optimizer=optimizer, loss='categorical_crossentropy', metrics=['accuracy'])\n",
    "\n",
    "# Entrenar y evaluar el modelo\n",
    "history = nn_model.fit(X_train, y_train_cat, epochs=100, batch_size=16, validation_split=0.2, verbose=1)\n",
    "loss, accuracy = nn_model.evaluate(X_test, y_test_cat)\n",
    "print(\"Pérdida (Loss):\", loss)\n",
    "print(\"Precisión (Accuracy):\", accuracy)\n"
   ]
  },
  {
   "cell_type": "markdown",
   "id": "265a579d-dd45-4706-b9e2-b553e657c7b8",
   "metadata": {},
   "source": [
    "## ¡Excelente avance! 🎉 Ahora tenemos una precisión del 44.77%, lo que representa una mejora significativa. Sin embargo, la pérdida sigue siendo relativamente alta (4.48), lo que indica que el modelo aún tiene espacio para refinar su capacidad de predicción."
   ]
  },
  {
   "cell_type": "markdown",
   "id": "355299bf-0a40-4970-be42-e5658871d39d",
   "metadata": {},
   "source": [
    "## Próximos Pasos: Validación Cruzada"
   ]
  },
  {
   "cell_type": "code",
   "execution_count": null,
   "id": "dd2ffa9c-1ae1-4638-a4b1-72f6ea0e9c39",
   "metadata": {},
   "outputs": [],
   "source": [
    "from sklearn.model_selection import cross_val_score\n",
    "import numpy as np\n",
    "from tensorflow.keras.wrappers.scikit_learn import KerasClassifier\n",
    "\n",
    "# Envolver el modelo en un clasificador de Scikit-Learn\n",
    "def create_model():\n",
    "    model = Sequential()\n",
    "    model.add(Dense(64, activation='relu', input_dim=X_train.shape[1]))\n",
    "    model.add(Dense(32, activation='relu'))\n",
    "    model.add(Dense(y_train_cat.shape[1], activation='softmax'))\n",
    "    model.compile(optimizer=Adam(learning_rate=0.001), loss='categorical_crossentropy', metrics=['accuracy'])\n",
    "    return model\n",
    "\n",
    "# Validación cruzada\n",
    "estimator = KerasClassifier(build_fn=create_model, epochs=100, batch_size=16, verbose=0)\n",
    "cv_results = cross_val_score(estimator, X_train, y_train, cv=5)\n",
    "\n",
    "print(\"Precisión promedio en validación cruzada:\", np.mean(cv_results))\n",
    "print(\"Desviación estándar:\", np.std(cv_results))\n"
   ]
  },
  {
   "cell_type": "markdown",
   "id": "47bff4ed-9746-4747-9e29-5e63cd586f64",
   "metadata": {},
   "source": [
    "## Instalamos tensorflow"
   ]
  },
  {
   "cell_type": "code",
   "execution_count": null,
   "id": "f9c76ff0-4756-47c9-a839-e17fc638f444",
   "metadata": {},
   "outputs": [],
   "source": [
    "!pip install scikeras\n"
   ]
  },
  {
   "cell_type": "code",
   "execution_count": null,
   "id": "3fe05f9d-5f4c-42f8-bc40-f8ee20f9f5fa",
   "metadata": {},
   "outputs": [],
   "source": [
    "from sklearn.model_selection import cross_val_score\n",
    "from scikeras.wrappers import KerasClassifier\n",
    "from tensorflow.keras.models import Sequential\n",
    "from tensorflow.keras.layers import Dense\n",
    "from tensorflow.keras.optimizers import Adam\n",
    "import numpy as np\n",
    "\n",
    "# Función para crear el modelo\n",
    "def create_model():\n",
    "    model = Sequential()\n",
    "    model.add(Dense(64, activation='relu', input_dim=X_train.shape[1]))\n",
    "    model.add(Dense(32, activation='relu'))\n",
    "    model.add(Dense(y_train_cat.shape[1], activation='softmax'))\n",
    "    model.compile(optimizer=Adam(learning_rate=0.001), loss='categorical_crossentropy', metrics=['accuracy'])\n",
    "    return model\n",
    "\n",
    "# Envolver el modelo en KerasClassifier\n",
    "estimator = KerasClassifier(model=create_model, epochs=100, batch_size=16, verbose=0)\n",
    "\n",
    "# Realizar validación cruzada\n",
    "cv_results = cross_val_score(estimator, X_train, y_train, cv=5)\n",
    "\n",
    "# Mostrar resultados\n",
    "print(\"Precisión promedio en validación cruzada:\", np.mean(cv_results))\n",
    "print(\"Desviación estándar de la precisión:\", np.std(cv_results))\n"
   ]
  },
  {
   "cell_type": "code",
   "execution_count": null,
   "id": "ef478a8d-c58b-42cb-ac48-15a3792336e0",
   "metadata": {},
   "outputs": [],
   "source": [
    "!pip install --upgrade scikit-learn scikeras\n"
   ]
  },
  {
   "cell_type": "code",
   "execution_count": null,
   "id": "2c1336d2-de06-4155-88e3-15f090722951",
   "metadata": {},
   "outputs": [],
   "source": [
    "import sklearn\n",
    "import scikeras\n",
    "print(\"scikit-learn version:\", sklearn.__version__)\n",
    "print(\"scikeras version:\", scikeras.__version__)\n"
   ]
  },
  {
   "cell_type": "code",
   "execution_count": null,
   "id": "1465f575-2e1f-4de8-8fe9-2b9fc649a25e",
   "metadata": {},
   "outputs": [],
   "source": [
    "!pip uninstall -y scikeras scikit-learn\n",
    "!pip install scikit-learn scikeras\n"
   ]
  },
  {
   "cell_type": "markdown",
   "id": "661c04f4-25a3-472d-8dff-2d7a2f3dc86d",
   "metadata": {},
   "source": [
    "## Prueba del código de validación cruzada nuevamente "
   ]
  },
  {
   "cell_type": "code",
   "execution_count": null,
   "id": "028837a9-803a-4be8-8e3d-b49a28e7be1e",
   "metadata": {},
   "outputs": [],
   "source": [
    "from sklearn.model_selection import cross_val_score\n",
    "from scikeras.wrappers import KerasClassifier\n",
    "from tensorflow.keras.models import Sequential\n",
    "from tensorflow.keras.layers import Dense\n",
    "from tensorflow.keras.optimizers import Adam\n",
    "import numpy as np\n",
    "\n",
    "# Función para crear el modelo\n",
    "def create_model():\n",
    "    model = Sequential()\n",
    "    model.add(Dense(64, activation='relu', input_dim=X_train.shape[1]))\n",
    "    model.add(Dense(32, activation='relu'))\n",
    "    model.add(Dense(y_train_cat.shape[1], activation='softmax'))\n",
    "    model.compile(optimizer=Adam(learning_rate=0.001), loss='categorical_crossentropy', metrics=['accuracy'])\n",
    "    return model\n",
    "\n",
    "# Envolver el modelo en KerasClassifier\n",
    "estimator = KerasClassifier(model=create_model, epochs=100, batch_size=16, verbose=0)\n",
    "\n",
    "# Realizar validación cruzada\n",
    "cv_results = cross_val_score(estimator, X_train, y_train, cv=5)\n",
    "\n",
    "# Mostrar resultados\n",
    "print(\"Precisión promedio en validación cruzada:\", np.mean(cv_results))\n",
    "print(\"Desviación estándar de la precisión:\", np.std(cv_results))\n"
   ]
  },
  {
   "cell_type": "markdown",
   "id": "4519cc08-237c-4512-92b9-5e3775d05038",
   "metadata": {},
   "source": [
    "## Conclusión del Ejercicio:\n",
    "Hipótesis:\n",
    "\n",
    "Entrenar un modelo de Machine Learning para predecir la carrera ideal de un usuario, basado en las respuestas a una encuesta diseñada según los 4 pilares del método Ikigai, es un problema complejo. Esto se debe a la naturaleza difusa de las variables involucradas, la subjetividad inherente a la interpretación del Ikigai, y el número elevado de categorías posibles.\n",
    "Resultado de la Hipótesis:\n",
    "\n",
    "HIPÓTESIS CORRECTA: Los resultados obtenidos durante los experimentos (precisiones entre 6% y 44%) confirman que, con los datos y configuraciones actuales, el modelo no logra generalizar de forma efectiva. Esto demuestra que:\n",
    "Definición de Variables: Las variables predictoras necesitan un refinamiento o redefinición para captar mejor las características relevantes.\n",
    "Cantidad de Categorías: Un número elevado de categorías profesionales complica la tarea de clasificación, especialmente con un dataset de tamaño limitado.\n",
    "Cantidad de Datos: Para un problema multiclase de esta magnitud, los 1,000 datos disponibles no son suficientes para que los modelos puedan aprender patrones significativos.\n",
    "\n",
    "Recomendaciones:\n",
    "\n",
    "- Recolección de más Datos Reales: Incrementar el tamaño del dataset y recolectar respuestas reales para reflejar mejor la complejidad del problema.\n",
    "- Agrupación de Categorías: Reducir el número de categorías posibles (como los 5 clústeres implementados) para simplificar el problema.\n",
    "- Refinamiento de Variables: Analizar y ajustar las preguntas de la encuesta para obtener datos más objetivos y cuantificables.\n",
    "- Exploración de Modelos Avanzados: Probar enfoques como Redes Neuronales profundas con mayor cantidad de datos o arquitecturas personalizadas.\n",
    "\n",
    "Conclusión Final: Este ejercicio ha demostrado que el diseño de un modelo predictivo para este problema requiere datos más robustos, una definición más clara de las variables y, posiblemente, un replanteamiento en la forma de agrupar o clasificar las carreras profesionales."
   ]
  },
  {
   "cell_type": "markdown",
   "id": "08e8da83-3955-450e-8cb7-32074186f38c",
   "metadata": {},
   "source": [
    "## Como última alternativa vamos a usar el Leazy Predictor para averiguar si hay un Modelo que nos pueda servir"
   ]
  },
  {
   "cell_type": "code",
   "execution_count": 103,
   "id": "f6678f2e-b30e-4020-ab77-f14ce5ccb651",
   "metadata": {},
   "outputs": [
    {
     "ename": "NameError",
     "evalue": "name 'load_DataSet_1000_Target' is not defined",
     "output_type": "error",
     "traceback": [
      "\u001b[0;31m---------------------------------------------------------------------------\u001b[0m",
      "\u001b[0;31mNameError\u001b[0m                                 Traceback (most recent call last)",
      "Cell \u001b[0;32mIn[103], line 10\u001b[0m\n\u001b[1;32m      7\u001b[0m \u001b[38;5;28;01mfrom\u001b[39;00m \u001b[38;5;21;01msklearn\u001b[39;00m\u001b[38;5;21;01m.\u001b[39;00m\u001b[38;5;21;01mdatasets\u001b[39;00m \u001b[38;5;28;01mimport\u001b[39;00m load_diabetes\n\u001b[1;32m      9\u001b[0m \u001b[38;5;66;03m# Cargar un dataset de ejemplo (o utiliza tus propios datos)\u001b[39;00m\n\u001b[0;32m---> 10\u001b[0m data \u001b[38;5;241m=\u001b[39m load_DataSet_1000_Target()\n\u001b[1;32m     11\u001b[0m X \u001b[38;5;241m=\u001b[39m data\u001b[38;5;241m.\u001b[39mdata\n\u001b[1;32m     12\u001b[0m y \u001b[38;5;241m=\u001b[39m data\u001b[38;5;241m.\u001b[39mtarget\n",
      "\u001b[0;31mNameError\u001b[0m: name 'load_DataSet_1000_Target' is not defined"
     ]
    }
   ],
   "source": [
    "# Instalar la biblioteca (si aún no está instalada)\n",
    "# !pip install lazypredict\n",
    "\n",
    "# Importar LazyRegressor\n",
    "from lazypredict.Supervised import LazyRegressor\n",
    "from sklearn.model_selection import train_test_split\n",
    "from sklearn.datasets import load_diabetes\n",
    "\n",
    "# Cargar un dataset de ejemplo (o utiliza tus propios datos)\n",
    "data = load_DataSet_1000_Target()\n",
    "X = data.data\n",
    "y = data.target\n",
    "\n",
    "# Dividir el dataset en entrenamiento y prueba\n",
    "X_train, X_test, y_train, y_test = train_test_split(X, y, test_size=0.3, random_state=42)\n",
    "\n",
    "# Crear el objeto LazyRegressor\n",
    "regressor = LazyRegressor(verbose=0, ignore_warnings=True, custom_metric=None)\n",
    "\n",
    "# Entrenar y evaluar los modelos\n",
    "models, predictions = regressor.fit(X_train, X_test, y_train, y_test)\n",
    "\n",
    "# Mostrar los resultados ordenados por R²\n",
    "print(models.head(10))  # Muestra los 10 mejores modelos\n"
   ]
  },
  {
   "cell_type": "markdown",
   "id": "6cd0a9d1-1f5b-4f30-8b69-8e2aa2f33af3",
   "metadata": {},
   "source": [
    "## Entrenar el modelo ExtraTreesRegressor"
   ]
  },
  {
   "cell_type": "code",
   "execution_count": 30,
   "id": "9317df4b-243d-4a8c-8d29-0531b17fff61",
   "metadata": {},
   "outputs": [
    {
     "name": "stdout",
     "output_type": "stream",
     "text": [
      "Fitting 5 folds for each of 108 candidates, totalling 540 fits\n",
      "Mejores hiperparámetros: {'max_depth': 10, 'min_samples_leaf': 4, 'min_samples_split': 10, 'n_estimators': 100}\n",
      "R² en el conjunto de prueba: 0.52\n",
      "Error cuadrático medio (MSE): 2597.55\n",
      "Importancia de características: [0.02898205 0.03811817 0.37284446 0.12769847 0.02145494 0.02250763\n",
      " 0.05301848 0.06448288 0.22108791 0.049805  ]\n"
     ]
    }
   ],
   "source": [
    "# Importar las bibliotecas necesarias\n",
    "from sklearn.ensemble import ExtraTreesRegressor\n",
    "from sklearn.model_selection import GridSearchCV, cross_val_score\n",
    "from sklearn.metrics import mean_squared_error, r2_score\n",
    "import numpy as np\n",
    "\n",
    "# Crear el modelo base de ExtraTreesRegressor\n",
    "et_model = ExtraTreesRegressor(random_state=42)\n",
    "\n",
    "# Definir el grid de hiperparámetros\n",
    "param_grid = {\n",
    "    'n_estimators': [50, 100, 200],  # Número de árboles\n",
    "    'max_depth': [None, 10, 20, 30],  # Profundidad máxima de los árboles\n",
    "    'min_samples_split': [2, 5, 10],  # Mínimo de muestras para dividir un nodo\n",
    "    'min_samples_leaf': [1, 2, 4]  # Mínimo de muestras en una hoja\n",
    "}\n",
    "\n",
    "# Configurar el GridSearchCV\n",
    "grid_search = GridSearchCV(\n",
    "    estimator=et_model,\n",
    "    param_grid=param_grid,\n",
    "    scoring='r2',  # Usar R² como métrica\n",
    "    cv=5,  # Validación cruzada con 5 particiones\n",
    "    verbose=1,  # Mostrar el progreso\n",
    "    n_jobs=-1  # Usar todos los núcleos disponibles\n",
    ")\n",
    "\n",
    "# Entrenar el modelo con GridSearchCV\n",
    "grid_search.fit(X_train, y_train)\n",
    "\n",
    "# Obtener los mejores hiperparámetros\n",
    "best_params = grid_search.best_params_\n",
    "print(\"Mejores hiperparámetros:\", best_params)\n",
    "\n",
    "# Evaluar el modelo optimizado en el conjunto de prueba\n",
    "best_model = grid_search.best_estimator_\n",
    "y_pred = best_model.predict(X_test)\n",
    "\n",
    "# Calcular métricas\n",
    "r2 = r2_score(y_test, y_pred)\n",
    "mse = mean_squared_error(y_test, y_pred)\n",
    "print(f\"R² en el conjunto de prueba: {r2:.2f}\")\n",
    "print(f\"Error cuadrático medio (MSE): {mse:.2f}\")\n",
    "\n",
    "# Mostrar la importancia de las características\n",
    "importances = best_model.feature_importances_\n",
    "print(\"Importancia de características:\", importances)\n"
   ]
  },
  {
   "cell_type": "code",
   "execution_count": 101,
   "id": "bae53174-b1cf-410f-a06c-6ea7b515925e",
   "metadata": {},
   "outputs": [
    {
     "ename": "AttributeError",
     "evalue": "'numpy.ndarray' object has no attribute 'head'",
     "output_type": "error",
     "traceback": [
      "\u001b[0;31m---------------------------------------------------------------------------\u001b[0m",
      "\u001b[0;31mAttributeError\u001b[0m                            Traceback (most recent call last)",
      "Cell \u001b[0;32mIn[101], line 1\u001b[0m\n\u001b[0;32m----> 1\u001b[0m X_train\u001b[38;5;241m.\u001b[39mhead()\n",
      "\u001b[0;31mAttributeError\u001b[0m: 'numpy.ndarray' object has no attribute 'head'"
     ]
    }
   ],
   "source": [
    ".he()"
   ]
  },
  {
   "cell_type": "markdown",
   "id": "4c872a13-e7d2-45eb-b4d1-96440ffa03ef",
   "metadata": {},
   "source": [
    "## Excelente resultados del 72% de predictibilidad!!"
   ]
  },
  {
   "cell_type": "markdown",
   "id": "1c1dfb49-13a5-4c27-918d-ef6827dca4bf",
   "metadata": {},
   "source": [
    "## Valores Reales vs Predicciones"
   ]
  },
  {
   "cell_type": "code",
   "execution_count": 91,
   "id": "b0e9ac68-4230-4ccb-a801-e1b0f703ff52",
   "metadata": {},
   "outputs": [
    {
     "data": {
      "image/png": "[encoded data removed]",
      "text/plain": [
       "<Figure size 1000x600 with 1 Axes>"
      ]
     },
     "metadata": {},
     "output_type": "display_data"
    }
   ],
   "source": [
    "import matplotlib.pyplot as plt\n",
    "\n",
    "# Gráfico de Valores Reales vs Predicciones\n",
    "plt.figure(figsize=(10, 6))\n",
    "plt.scatter(y_test, y_pred, alpha=0.6, color='orange', label='Predicciones')\n",
    "plt.plot([y_test.min(), y_test.max()], [y_test.min(), y_test.max()], color='red', linestyle='--', label='Perfecto ajuste')\n",
    "plt.title('Valores Reales vs Predicciones')\n",
    "plt.xlabel('Valores Reales')\n",
    "plt.ylabel('Predicciones')\n",
    "plt.legend()\n",
    "plt.show()\n"
   ]
  },
  {
   "cell_type": "code",
   "execution_count": 93,
   "id": "fbad24ad-f20f-42c0-a196-190ef54bbbea",
   "metadata": {},
   "outputs": [
    {
     "data": {
      "image/png": "[encoded data removed]",
      "text/plain": [
       "<Figure size 1000x600 with 1 Axes>"
      ]
     },
     "metadata": {},
     "output_type": "display_data"
    }
   ],
   "source": [
    "# Calcular los residuales\n",
    "residuals = y_test - y_pred\n",
    "\n",
    "# Gráfico de Histograma de Residuales\n",
    "plt.figure(figsize=(10, 6))\n",
    "plt.hist(residuals, bins=30, color='blue', alpha=0.7)\n",
    "plt.axvline(0, color='red', linestyle='--', linewidth=2, label='Sin error')\n",
    "plt.title('Distribución de los Residuales')\n",
    "plt.xlabel('Residual')\n",
    "plt.ylabel('Frecuencia')\n",
    "plt.legend()\n",
    "plt.show()\n"
   ]
  },
  {
   "cell_type": "code",
   "execution_count": 95,
   "id": "028079df-ff85-474a-b35d-c6a6aaf9b45e",
   "metadata": {},
   "outputs": [
    {
     "data": {
      "image/png": "[encoded data removed]",
      "text/plain": [
       "<Figure size 1000x600 with 1 Axes>"
      ]
     },
     "metadata": {},
     "output_type": "display_data"
    }
   ],
   "source": [
    "# Gráfico de Predicciones vs Residuales\n",
    "plt.figure(figsize=(10, 6))\n",
    "plt.scatter(y_pred, residuals, alpha=0.6)\n",
    "plt.axhline(0, color='red', linestyle='--', linewidth=2, label='Sin error')\n",
    "plt.title('Predicciones vs Residuales')\n",
    "plt.xlabel('Predicciones')\n",
    "plt.ylabel('Residuales')\n",
    "plt.legend()\n",
    "plt.show()\n"
   ]
  },
  {
   "cell_type": "code",
   "execution_count": null,
   "id": "dfc26792-9494-4fc7-a17a-09a59de42fea",
   "metadata": {},
   "outputs": [],
   "source": []
  }
 ],
 "metadata": {
  "kernelspec": {
   "display_name": "Python 3 (ipykernel)",
   "language": "python",
   "name": "python3"
  },
  "language_info": {
   "codemirror_mode": {
    "name": "ipython",
    "version": 3
   },
   "file_extension": ".py",
   "mimetype": "text/x-python",
   "name": "python",
   "nbconvert_exporter": "python",
   "pygments_lexer": "ipython3",
   "version": "3.12.4"
  }
 },
 "nbformat": 4,
 "nbformat_minor": 5
}
